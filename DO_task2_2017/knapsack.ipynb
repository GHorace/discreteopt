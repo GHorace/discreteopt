{
 "cells": [
  {
   "cell_type": "markdown",
   "metadata": {},
   "source": [
    "# Knapsack\n",
    "\n",
    "## Task\n",
    "\n",
    "You are given 5 instances of the knapsack problem:\n",
    "\n",
    "$\\max \\{ \\sum_{i=1}^n v_i x_i$\n",
    "|  $\\sum_{i=1}^n s_i x_i \\leq S, x_i \\in \\{ 0, 1 \\} \\}$\n",
    "\n",
    "You can implement any algorithm you want."
   ]
  },
  {
   "cell_type": "code",
   "execution_count": 15,
   "metadata": {
    "scrolled": true
   },
   "outputs": [],
   "source": [
    "import numpy as np\n",
    "import sys"
   ]
  },
  {
   "cell_type": "markdown",
   "metadata": {},
   "source": [
    "To read the formatted input files, we put `read_data` returning value, size, capacity = $[v_i], [s_i], S$"
   ]
  },
  {
   "cell_type": "code",
   "execution_count": null,
   "metadata": {
    "collapsed": true
   },
   "outputs": [],
   "source": [
    "def read_numbers(data_file):\n",
    "    input_data_file = open(data_file, 'r')\n",
    "    input_data = input_data_file.readlines()\n",
    "    input_data_file.close()\n",
    "\n",
    "    numbers = np.array([])\n",
    "    for i_line in range(len(input_data)):\n",
    "        entries = input_data[i_line].split()\n",
    "        entries = filter(None, entries) # remove empty entries\n",
    "        line_numbers = [ float(x) if x.lower != \"inf\" else float(\"inf\") for x in entries ]\n",
    "        numbers = np.append(numbers, line_numbers)\n",
    "    return numbers\n",
    "\n",
    "\n",
    "def read_data(data_file):\n",
    "    numbers = read_numbers(data_file)\n",
    "    cur_entry = 0\n",
    "\n",
    "    # number of nodes\n",
    "    num_items = int(numbers[cur_entry])\n",
    "    cur_entry += 1\n",
    "    \n",
    "    # maximum capacity of the knapsack\n",
    "    capacity = float(numbers[cur_entry])\n",
    "    cur_entry += 1\n",
    "    \n",
    "    # get data on the items\n",
    "    value = np.zeros(num_items, dtype = 'float')\n",
    "    size = np.zeros(num_items, dtype = 'float')\n",
    "    for i_item in range(num_items):\n",
    "        value[i_item] = float(numbers[cur_entry])\n",
    "        cur_entry += 1\n",
    "        size[i_item] = float(numbers[cur_entry])\n",
    "        cur_entry += 1\n",
    "        \n",
    "    return value, size, capacity\n",
    "\n",
    "\n",
    "def make_dummy_solution(value, size, capacity):\n",
    "    num_items = len(value)\n",
    "    solution_value = 0\n",
    "    solution_items = np.zeros(num_items, 'int')\n",
    "    return solution_value, solution_items\n",
    "\n",
    "\n",
    "if __name__ == '__main__':\n",
    "    #if len(sys.argv) > 1:\n",
    "    if False :\n",
    "        print(sys.argv)\n",
    "        file_location = sys.argv[1].strip()\n",
    "    else:\n",
    "        k = input(\"numero du test ? \")\n",
    "        file_location = \"task2_test{}.txt\".format(k)\n",
    "        \n",
    "    value, size, capacity = read_data(file_location)\n",
    "    print(\"value\", value, \"size\", size, \"capacity\", capacity, '\\n', sep='\\n')\n",
    "    solution_value, solution_items = make_dummy_solution(value, size, capacity)\n",
    "    \n",
    "    print(solution_value)\n",
    "    print(' '.join(map(str, solution_items)))"
   ]
  }
 ],
 "metadata": {
  "kernelspec": {
   "display_name": "Python [Root]",
   "language": "python",
   "name": "Python [Root]"
  },
  "language_info": {
   "codemirror_mode": {
    "name": "ipython",
    "version": 3
   },
   "file_extension": ".py",
   "mimetype": "text/x-python",
   "name": "python",
   "nbconvert_exporter": "python",
   "pygments_lexer": "ipython3",
   "version": "3.5.2"
  }
 },
 "nbformat": 4,
 "nbformat_minor": 1
}
